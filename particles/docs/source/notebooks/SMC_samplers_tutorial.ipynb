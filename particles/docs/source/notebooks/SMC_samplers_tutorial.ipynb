{
 "cells": [
  {
   "cell_type": "markdown",
   "metadata": {},
   "source": [
    "# SMC samplers\n",
    "\n",
    "This tutorial gives a basic introduction to SMC samplers, and explains how to run the SMC samplers already implemented in ``particles``. For a more advanced tutorial on how to design new SMC samplers, see the next tutorial. For more background on SMC samplers, check Chapter 17 of the book.\n",
    "\n",
    "## SMC samplers: what for? \n",
    "\n",
    "A SMC sampler is a SMC algorithm that samples from a sequence of probability distributions $\\pi_t$, $t=0,\\ldots,T$ (and compute their normalising constants). Sometimes one is genuinely interested in each $\\pi_t$; more often one is interested only in the final distribution $\\pi_T$. In the latter case, the sequence is purely instrumental.\n",
    "\n",
    "Examples of SMC sequences are: \n",
    "\n",
    "1. $\\pi_t(\\theta) = p(\\theta|y_{0:t})$, the Bayesian posterior distribution of parameter $\\theta$ given data $y_{0:t}$, for a certain model. \n",
    "\n",
    "2. A tempering sequence, $\\pi_t(\\theta) \\propto \\nu(\\theta) L(\\theta)^{\\gamma_t}$ ,where the $\\gamma_t$'s form an increasing sequence of exponents: $0=\\gamma_0 < \\ldots < \\gamma_T=1$. You can think of $\\nu$ being the prior, $L$ the likelihood function, and $\\pi_T$ the posterior. However, more generally, tempering is a way to interpolate between any two distributions, $\\nu$ and $\\pi$, with $\\pi(\\theta) \\propto \\nu(\\theta) L(\\theta)$. \n",
    "\n",
    "We discuss first how to specify a sequence of the first type.\n",
    "\n",
    "## Defining a Bayesian model\n",
    "\n",
    "To define a particular Bayesian model, you must subclass `StaticModel`, and define method `logpyt`, which evaluates the log-likelihood of datapoint $Y_t$ given parameter $\\theta$ and past datapoints $Y_{0:t-1}$. Here is a simple example: "
   ]
  },
  {
   "cell_type": "code",
   "execution_count": 1,
   "metadata": {},
   "outputs": [],
   "source": [
    "%matplotlib inline\n",
    "from matplotlib import pyplot as plt\n",
    "import seaborn as sb\n",
    "import numpy as np\n",
    "from scipy import stats\n",
    "\n",
    "import particles\n",
    "from particles import smc_samplers as ssp\n",
    "from particles import distributions as dists\n",
    "\n",
    "class ToyModel(ssp.StaticModel):\n",
    "    def logpyt(self, theta, t):  # density of Y_t given theta and Y_{0:t-1}\n",
    "        return stats.norm.logpdf(self.data[t], loc=theta['mu'],\n",
    "                                 scale = theta['sigma'])"
   ]
  },
  {
   "cell_type": "markdown",
   "metadata": {},
   "source": [
    "In words, we are considering a model where the observations are $Y_t\\sim N(\\mu, \\sigma^2)$ (independently). The parameter is $\\theta=(\\mu, \\sigma)$. Note the fields notation; more about this later. \n",
    "\n",
    "Class `ToyModel` implicitely defines the  likelihood of the considered model for any sample size (since the likelihood at time $t$ is $p^\\theta(y_{0:t})=\\prod_{s=0}^t p^\\theta(y_s|y_{0:s-1})$, and method `logpyt` defines each factor in this product; note that $y_s$ does not depend on the past values in our particular example). We now define the data and the prior: "
   ]
  },
  {
   "cell_type": "code",
   "execution_count": 9,
   "metadata": {},
   "outputs": [],
   "source": [
    "T = 30\n",
    "my_data = stats.norm.rvs(loc=3.14, size=T)  # simulated data\n",
    "my_prior = dists.StructDist({'mu': dists.Normal(scale=10.),\n",
    "                             'sigma': dists.Gamma()})"
   ]
  },
  {
   "cell_type": "markdown",
   "metadata": {},
   "source": [
    "For more details about to define prior distributions, see the documentation of module `distributions`, or the previous [tutorial on Bayesian estimation of state-space models](Bayes_estimation_ssm.ipynb). Now that we have everything, let's specify our static model: "
   ]
  },
  {
   "cell_type": "code",
   "execution_count": 10,
   "metadata": {},
   "outputs": [],
   "source": [
    "my_static_model = ToyModel(data=my_data, prior=my_prior)"
   ]
  },
  {
   "cell_type": "markdown",
   "metadata": {},
   "source": [
    "This time, object `my_static_model` entirely defines the posterior. "
   ]
  },
  {
   "cell_type": "code",
   "execution_count": 11,
   "metadata": {},
   "outputs": [
    {
     "data": {
      "text/plain": [
       "array([-8.38356144e+03, -1.70110905e+02, -1.84383513e+03, -1.34842726e+02,\n",
       "       -2.00329818e+05])"
      ]
     },
     "execution_count": 11,
     "metadata": {},
     "output_type": "execute_result"
    }
   ],
   "source": [
    "thetas = my_prior.rvs(size=5) \n",
    "my_static_model.logpost(thetas, t=2)  \n",
    "# if t is omitted, gives the full posterior"
   ]
  },
  {
   "cell_type": "markdown",
   "metadata": {},
   "source": [
    "The input of `logpost` and output of `myprior.rvs()` are [structured arrays](https://docs.scipy.org/doc/numpy/user/basics.rec.html), that is, arrays with fields:"
   ]
  },
  {
   "cell_type": "code",
   "execution_count": 12,
   "metadata": {},
   "outputs": [
    {
     "data": {
      "text/plain": [
       "-10.584651715859902"
      ]
     },
     "execution_count": 12,
     "metadata": {},
     "output_type": "execute_result"
    }
   ],
   "source": [
    "thetas['mu'][0]"
   ]
  },
  {
   "cell_type": "markdown",
   "metadata": {},
   "source": [
    "Typically, you won't need to call `logpost` yourself, this will be done by the SMC sampler for you. "
   ]
  },
  {
   "cell_type": "markdown",
   "metadata": {},
   "source": [
    "## IBIS\n",
    "\n",
    "IBIS (iterated batch importance sampling) is the standard name for a SMC sampler that tracks a sequence of partial posterior distributions; i.e. $\\pi_t$ is $p(\\theta|y_{0:t})$, for $t=0,1,\\ldots$. \n",
    "\n",
    "Module `smc_samplers` defines `IBIS` as a subclass of `FeynmanKac`. "
   ]
  },
  {
   "cell_type": "code",
   "execution_count": 13,
   "metadata": {},
   "outputs": [
    {
     "name": "stdout",
     "output_type": "stream",
     "text": [
      "t=0, ESS=82.04\n",
      "t=1, Metropolis acc. rate (over 49 steps): 0.254, ESS=464.72\n",
      "t=2, Metropolis acc. rate (over 49 steps): 0.171, ESS=690.07\n",
      "t=3, ESS=438.62\n",
      "t=4, Metropolis acc. rate (over 49 steps): 0.211, ESS=849.38\n",
      "t=5, ESS=606.35\n",
      "t=6, ESS=412.14\n",
      "t=7, Metropolis acc. rate (over 49 steps): 0.289, ESS=732.81\n",
      "t=8, ESS=680.56\n",
      "t=9, ESS=411.45\n",
      "t=10, Metropolis acc. rate (over 49 steps): 0.288, ESS=282.34\n",
      "t=11, Metropolis acc. rate (over 49 steps): 0.317, ESS=850.79\n",
      "t=12, ESS=926.82\n",
      "t=13, ESS=936.24\n",
      "t=14, ESS=906.07\n",
      "t=15, ESS=650.82\n",
      "t=16, ESS=514.22\n",
      "t=17, ESS=426.00\n",
      "t=18, Metropolis acc. rate (over 49 steps): 0.325, ESS=878.73\n",
      "t=19, ESS=842.13\n",
      "t=20, ESS=826.67\n",
      "t=21, ESS=769.72\n",
      "t=22, ESS=865.55\n",
      "t=23, ESS=773.36\n",
      "t=24, ESS=690.59\n",
      "t=25, ESS=619.32\n",
      "t=26, ESS=645.08\n",
      "t=27, ESS=594.02\n",
      "t=28, ESS=510.84\n",
      "t=29, ESS=695.80\n"
     ]
    }
   ],
   "source": [
    "my_ibis = ssp.IBIS(my_static_model, len_chain=50)\n",
    "my_alg = particles.SMC(fk=my_ibis, N=20, \n",
    "                       store_history=True, verbose=True)\n",
    "my_alg.run()"
   ]
  },
  {
   "cell_type": "markdown",
   "metadata": {},
   "source": [
    "**Note**: we use option `verbose=True` in `SMC` in order to print some information on the intermediate distributions. \n",
    "\n",
    "Since we set `store_history` to `True`, the particles and their weights have been saved at every time (in attribute `hist`, see previous tutorials on smoothing). Let's plot the posterior distributions of $\\mu$ and $\\sigma$ at various times."
   ]
  },
  {
   "cell_type": "code",
   "execution_count": 18,
   "metadata": {},
   "outputs": [
    {
     "data": {
      "image/png": "[encoded data removed]",
      "text/plain": [
       "<Figure size 432x288 with 2 Axes>"
      ]
     },
     "metadata": {},
     "output_type": "display_data"
    }
   ],
   "source": [
    "plt.style.use('ggplot')\n",
    "for i, p in enumerate(['mu', 'sigma']):\n",
    "    plt.subplot(1, 2, i + 1)\n",
    "    for t in [1, 29]:\n",
    "        plt.hist(my_alg.hist.X[t].theta[p], weights=my_alg.hist.wgts[t].W, label=\"t=%i\" % t, \n",
    "                 alpha=0.5, density=True)\n",
    "    plt.xlabel(p)\n",
    "plt.legend();"
   ]
  },
  {
   "cell_type": "markdown",
   "metadata": {},
   "source": [
    "As expected, the posterior distribution concentrates progressively around the true values. \n",
    "\n",
    "As always, once the algorithm is run, `my_smc.X` contains the final particles. However, object `my_smc.X` is no longer a simple numpy array. It is a `ThetaParticles` object, with attributes:\n",
    "\n",
    "* `theta`: a structured array (an array with fields); i.e. `my_smc.X.theta['mu']` is a (N,) array that contains the the $\\mu-$component of the $N$ particles; \n",
    "* `lpost`: a 1D numpy array that contains the target (posterior) log-density of each of the particles;\n",
    "* `shared`: a dictionary that contains \"meta-data\" on the particles; for instance `shared['acc_rates']` is a list of the acceptance rates of the successive Metropolis steps. "
   ]
  },
  {
   "cell_type": "code",
   "execution_count": 19,
   "metadata": {
    "scrolled": true
   },
   "outputs": [
    {
     "name": "stdout",
     "output_type": "stream",
     "text": [
      "['25%', '17%', '21%', '29%', '29%', '32%', '33%']\n"
     ]
    },
    {
     "data": {
      "image/png": "[encoded data removed]",
      "text/plain": [
       "<Figure size 432x288 with 1 Axes>"
      ]
     },
     "metadata": {},
     "output_type": "display_data"
    }
   ],
   "source": [
    "print([\"%2.f%%\" % (100 * np.mean(r)) for r in my_alg.X.shared['acc_rates']])\n",
    "plt.hist(my_alg.X.lpost, 30);"
   ]
  },
  {
   "cell_type": "markdown",
   "metadata": {},
   "source": [
    "You do not need to know much more about class `ThetaParticles` in pratice (if you're curious, however, see the next tutorial on SMC samplers or the documention of module `smc_samplers`)."
   ]
  },
  {
   "cell_type": "markdown",
   "metadata": {},
   "source": [
    "## Waste-free versus standard SMC samplers\n",
    "\n",
    "The library now implements by default waste-free SMC ([Dau & Chopin, 2020](https://arxiv.org/abs/2011.02328)), a variant of SMC samplers that keeps all the intermediate Markov steps (rather than \"wasting\" them). In practice, this means that, in the piece of code above:\n",
    "\n",
    "* at each time $t$, $N=20$ particles are resampled, and used as a starting points of the MCMC chains; \n",
    "\n",
    "* the MCMC chains are run for 49 iterations, hence the chain length is 50 (parameter ``len_chain=50``)\n",
    "\n",
    "* and since we keep all the intermediate steps, we get 50*20 = 1000 particles at each iteration. In particular, we do O(1000) operations at each step. (At time 0, we also generate 1000 particles.) \n",
    "\n",
    "Thus, the number of particles is actually `N * len_chain`; given this number of particles, the performance typically does not depend too much on `N` and `len_chain`, provided the latter is \"big enough\" (relative to the mixing of the MCMC kernels).  \n",
    "\n",
    "See Dau & Chopin (2020) for more details on waste-free SMC. If you wish to run a standard SMC sampler instead, you may set `wastefree=False`, like this:"
   ]
  },
  {
   "cell_type": "code",
   "execution_count": 20,
   "metadata": {},
   "outputs": [],
   "source": [
    "my_ibis = ssp.IBIS(my_static_model, wastefree=False, len_chain=11)\n",
    "my_alg = particles.SMC(fk=my_ibis, N=100, store_history=True)\n",
    "my_alg.run()"
   ]
  },
  {
   "cell_type": "markdown",
   "metadata": {},
   "source": [
    "This runs a standard SMC sampler which tracks $N=100$ particles; these particles are resampled from time to time, and then moved through 10 MCMC steps. (As explained in Dau & Chopin, 2020, you typically get a better performance vs CPU time trade-off with wastefree SMC.)  "
   ]
  },
  {
   "cell_type": "markdown",
   "metadata": {},
   "source": [
    "## Regarding the MCMC steps\n",
    "\n",
    "The default MCMC kernel used to move the particles is a Gaussian random walk Metropolis kernel, whose covariance matrix is calibrated automatically to $\\gamma$ times of the empirical covariance matrix of the particle sample, where $\\gamma=2.38 / \\sqrt{d}$ (standard choice in the literature). \n",
    "\n",
    "It is possible to specify a different value for $\\gamma$, or more generally other types of MCMC moves; for instance the following uses Metropolis kernels based on independent Gaussian proposals: "
   ]
  },
  {
   "cell_type": "code",
   "execution_count": 21,
   "metadata": {},
   "outputs": [
    {
     "name": "stdout",
     "output_type": "stream",
     "text": [
      "t=0, ESS=56.14\n",
      "t=1, Metropolis acc. rate (over 9 steps): 0.377, ESS=447.47\n",
      "t=2, ESS=270.35\n",
      "t=3, ESS=117.34\n",
      "t=4, Metropolis acc. rate (over 9 steps): 0.491, ESS=848.91\n",
      "t=5, ESS=595.25\n",
      "t=6, ESS=391.41\n",
      "t=7, ESS=276.38\n",
      "t=8, ESS=199.79\n",
      "t=9, Metropolis acc. rate (over 9 steps): 0.660, ESS=765.88\n",
      "t=10, ESS=314.50\n",
      "t=11, ESS=278.97\n",
      "t=12, ESS=315.64\n",
      "t=13, ESS=270.67\n",
      "t=14, ESS=313.92\n",
      "t=15, ESS=179.27\n",
      "t=16, Metropolis acc. rate (over 9 steps): 0.759, ESS=937.78\n",
      "t=17, ESS=820.94\n",
      "t=18, ESS=951.60\n",
      "t=19, ESS=962.98\n",
      "t=20, ESS=938.37\n",
      "t=21, ESS=883.72\n",
      "t=22, ESS=843.66\n",
      "t=23, ESS=811.68\n",
      "t=24, ESS=736.35\n",
      "t=25, ESS=650.76\n",
      "t=26, ESS=597.71\n",
      "t=27, ESS=515.31\n",
      "t=28, ESS=456.33\n",
      "t=29, ESS=494.19\n"
     ]
    }
   ],
   "source": [
    "mcmc = ssp.ArrayIndependentMetropolis(scale=1.1)\n",
    "# Independent Gaussian proposal, with mean and variance determined by \n",
    "# the particle sample (variance inflated by factor scale=1.1) \n",
    "alt_move = ssp.MCMCSequenceWF(mcmc=mcmc)\n",
    "# This object represents a particular way to apply several MCMC steps \n",
    "# in a row. WF = WasteFree\n",
    "alt_ibis = ssp.IBIS(my_static_model, move=alt_move)\n",
    "alt_alg = particles.SMC(fk=alt_ibis, N=100,ESSrmin=0.2,\n",
    "                        verbose=True)\n",
    "alt_alg.run()"
   ]
  },
  {
   "cell_type": "markdown",
   "metadata": {},
   "source": [
    "In the future, the package may also implement other type of MCMC kernels such as MALA. It is also possible to define your own MCMC kernels, as explained in the next tutorial. \n",
    "\n",
    "For now, note the following practical detail: the algorithm resamples whenever the ESS gets below a certain threshold $\\alpha * N$; the default value $\\alpha=0.5$, but here we changed it (to $\\alpha=0.2$) by setting `ESSrmin=0.2`."
   ]
  },
  {
   "cell_type": "code",
   "execution_count": 22,
   "metadata": {},
   "outputs": [
    {
     "data": {
      "image/png": "[encoded data removed]",
      "text/plain": [
       "<Figure size 432x288 with 1 Axes>"
      ]
     },
     "metadata": {},
     "output_type": "display_data"
    }
   ],
   "source": [
    "plt.plot(alt_alg.summaries.ESSs)\n",
    "plt.xlabel('t')\n",
    "plt.ylabel('ESS');"
   ]
  },
  {
   "cell_type": "markdown",
   "metadata": {},
   "source": [
    "As expected, the algorithm waits until the ESS is below 200 to trigger a resample-move step."
   ]
  },
  {
   "cell_type": "markdown",
   "metadata": {},
   "source": [
    "## SMC tempering\n",
    "\n",
    "SMC tempering is a SMC sampler that samples iteratively from the following sequence of distributions:\n",
    "\n",
    "\\begin{equation}\n",
    "\\pi_t(\\theta) \\propto \\pi(\\theta) L(\\theta)^\\gamma_t\n",
    "\\end{equation}\n",
    "\n",
    "with $0=\\gamma_0 < \\ldots < \\gamma_T = 1$. In words, this sequence is a **geometric bridge**, which interpolates between the prior and the posterior. \n",
    "\n",
    "SMC tempering implemented in the same was as IBIS: as a sub-class of `FeynmanKac`, whose `__init__` function takes as argument a `StaticModel` object. "
   ]
  },
  {
   "cell_type": "code",
   "execution_count": 23,
   "metadata": {},
   "outputs": [
    {
     "name": "stdout",
     "output_type": "stream",
     "text": [
      "t=0, ESS=5000.00, tempering exponent=0.000938\n",
      "t=1, Metropolis acc. rate (over 9 steps): 0.262, ESS=5000.00, tempering exponent=0.0121\n",
      "t=2, Metropolis acc. rate (over 9 steps): 0.241, ESS=5000.00, tempering exponent=0.0627\n",
      "t=3, Metropolis acc. rate (over 9 steps): 0.237, ESS=5000.00, tempering exponent=0.197\n",
      "t=4, Metropolis acc. rate (over 9 steps): 0.266, ESS=5000.00, tempering exponent=0.629\n",
      "t=5, Metropolis acc. rate (over 9 steps): 0.343, ESS=8583.28, tempering exponent=1\n"
     ]
    }
   ],
   "source": [
    "fk_tempering = ssp.AdaptiveTempering(my_static_model)\n",
    "my_temp_alg = particles.SMC(fk=fk_tempering, N=1000, ESSrmin=1., \n",
    "                            verbose=True)\n",
    "my_temp_alg.run()"
   ]
  },
  {
   "cell_type": "markdown",
   "metadata": {},
   "source": [
    "**Note**: Recall that `SMC` resamples every time the ESS drops below value N times option `ESSrmin`; here we set it to to 1, since we want to resample at every time. This makes sense: Adaptive SMC chooses adaptively the successive values of $\\gamma_t$ so that the ESS equals a certain value ($N/2$ by default). \n",
    "\n",
    "We have not saved the intermediate results this time (option `store_history` was not set) since they are not particularly interesting. Let's look at the final results: "
   ]
  },
  {
   "cell_type": "code",
   "execution_count": 24,
   "metadata": {},
   "outputs": [
    {
     "data": {
      "image/png": "[encoded data removed]",
      "text/plain": [
       "<Figure size 432x288 with 2 Axes>"
      ]
     },
     "metadata": {},
     "output_type": "display_data"
    }
   ],
   "source": [
    "for i, p in enumerate(['mu', 'sigma']):\n",
    "    plt.subplot(1, 2, i + 1)\n",
    "    sb.histplot(my_temp_alg.X.theta[p], stat='density')\n",
    "    plt.xlabel(p)"
   ]
  },
  {
   "cell_type": "markdown",
   "metadata": {},
   "source": [
    "This looks reasonable!\n",
    "You can see from the output that the algorithm automatically chooses the tempering exponents $\\gamma_1, \\gamma_2,\\ldots$. In fact, at iteration $t$, the next value for $\\gamma$ is set that the ESS drops at most to $N/2$. You can change this particular threshold by passing argument ESSrmin to TemperingSMC. (Warning: do not mistake this with the `ESSrmin` argument of class `SMC`):"
   ]
  },
  {
   "cell_type": "code",
   "execution_count": 25,
   "metadata": {},
   "outputs": [
    {
     "name": "stdout",
     "output_type": "stream",
     "text": [
      "t=0, ESS=1000.00, tempering exponent=0.0372\n",
      "t=1, Metropolis acc. rate (over 9 steps): 0.223, ESS=1000.00, tempering exponent=0.699\n",
      "t=2, Metropolis acc. rate (over 9 steps): 0.341, ESS=9125.17, tempering exponent=1\n"
     ]
    }
   ],
   "source": [
    "lazy_tempering = ssp.AdaptiveTempering(my_static_model, ESSrmin = 0.1)\n",
    "lazy_alg = particles.SMC(fk=lazy_tempering, N=1000, verbose=True)\n",
    "lazy_alg.run()"
   ]
  },
  {
   "cell_type": "markdown",
   "metadata": {},
   "source": [
    "The algorithm progresses faster this time, but the ESS drops more between each step.\n",
    "Another optional argument for Class `TemperingSMC` is `options_mh`, which works exactly as for `IBIS`, see above. That is, by default, the particles are moved according to a certain (adaptative) number of random walk steps, with a variance calibrated to the particle variance.\n",
    "\n",
    "Again, all the indications above should be sufficient if you simply want to run a SMC sampler with random-walk Metropolis steps. If you are interested in more exotic SMC samplers (based on different MCMC kernels, or such that the state-space is not $\\mathbb{R}^d$), see the next tutorial on SMC samplers. "
   ]
  }
 ],
 "metadata": {
  "kernelspec": {
   "display_name": "Python 3",
   "language": "python",
   "name": "python3"
  },
  "language_info": {
   "codemirror_mode": {
    "name": "ipython",
    "version": 3
   },
   "file_extension": ".py",
   "mimetype": "text/x-python",
   "name": "python",
   "nbconvert_exporter": "python",
   "pygments_lexer": "ipython3",
   "version": "3.8.10"
  }
 },
 "nbformat": 4,
 "nbformat_minor": 1
}
